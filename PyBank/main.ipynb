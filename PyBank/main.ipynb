{
 "cells": [
  {
   "cell_type": "code",
   "execution_count": 5,
   "id": "99109df4-b79c-44ad-bd61-46e4b05a04ee",
   "metadata": {
    "tags": []
   },
   "outputs": [],
   "source": [
    "# Initial imports\n",
    "import csv\n",
    "from pathlib import Path"
   ]
  },
  {
   "cell_type": "code",
   "execution_count": 6,
   "id": "3f0a22a4-b7a8-4033-b95b-c124fdb0e659",
   "metadata": {},
   "outputs": [],
   "source": [
    "# Set csv file path\n",
    "csv_path = Path(\"Resources/budget_data.csv\")"
   ]
  },
  {
   "cell_type": "code",
   "execution_count": 7,
   "id": "cf16b269-8365-4252-8302-9cdda6ed8768",
   "metadata": {
    "tags": []
   },
   "outputs": [],
   "source": [
    "#Initialize variables to hold total profit, months, and monthly profit change\n",
    "total_profit = []\n",
    "months = []\n",
    "monthly_change = []"
   ]
  },
  {
   "cell_type": "code",
   "execution_count": 8,
   "id": "e76c9205-2dbb-44f1-808c-30e389acde93",
   "metadata": {
    "tags": []
   },
   "outputs": [],
   "source": [
    "# Open the input path as a file object\n",
    "# Pass in the csv file to the csv.reader() function\n",
    "# (with ',' as the delmiter/separator) and return the csvreader object\n",
    "with open(csv_path, 'r') as csvfile:\n",
    "    csvreader = csv.reader(csvfile, delimiter=',')\n",
    "    \n",
    "    # read starting header row\n",
    "    header = next(csvreader)\n",
    "    \n",
    "    # Read each row of data after the header\n",
    "    for row in csvreader:\n",
    "        \n",
    "        # Iterate through each list and append total months and total profit \n",
    "        months.append(row[0])\n",
    "        total_profit.append(int(row[1]))\n",
    "        \n",
    "    # Calculate monthly change by iterating through total profit\n",
    "    for a in range(len(total_profit)-1):\n",
    "        \n",
    "        #Append monthly difference to monthly_change list\n",
    "        monthly_change.append(total_profit[a+1]-total_profit[a])\n",
    "\n"
   ]
  },
  {
   "cell_type": "code",
   "execution_count": 9,
   "id": "bba93944-9187-4bd8-9ec3-faaf0b4f3a27",
   "metadata": {
    "tags": []
   },
   "outputs": [],
   "source": [
    "# Find maximum increase and decrease of monthly change\n",
    "\n",
    "max_inc = max(monthly_change)\n",
    "max_dec = min(monthly_change)"
   ]
  },
  {
   "cell_type": "code",
   "execution_count": 10,
   "id": "37f4a063-fcc5-49e9-8831-66754a2821e2",
   "metadata": {
    "tags": []
   },
   "outputs": [],
   "source": [
    "months_increase = monthly_change.index(max(monthly_change)) + 1\n",
    "months_decrease = monthly_change.index(min(monthly_change)) + 1"
   ]
  },
  {
   "cell_type": "code",
   "execution_count": 13,
   "id": "94d71891-9d68-441a-a07e-a01b532081ae",
   "metadata": {
    "tags": []
   },
   "outputs": [
    {
     "name": "stdout",
     "output_type": "stream",
     "text": [
      "Financial Analysis\n",
      "------------------\n",
      "Total Months: 86\n",
      "Total: $38382578\n",
      "Average Change: -2315.12\n",
      "Greatest Increase in Profits: Feb-2012 ($1926159)\n",
      "Greatest Decrease in Profits: Sep-2013 ($-2196167)\n"
     ]
    }
   ],
   "source": [
    "# Final Financial Analysis\n",
    "\n",
    "print(\"Financial Analysis\")\n",
    "print(\"------------------\")\n",
    "print(f\"Total Months: {len(months)}\")\n",
    "print(f\"Total: ${sum(total_profit)}\")\n",
    "print(f\"Average Change: {round(sum(monthly_change)/len(monthly_change),2)}\")\n",
    "print(f\"Greatest Increase in Profits: {months[month_increase]} (${(str(max_inc))})\")\n",
    "print(f\"Greatest Decrease in Profits: {months[month_decrease]} (${(str(max_dec))})\")"
   ]
  },
  {
   "cell_type": "code",
   "execution_count": 18,
   "id": "270be6f2-08d9-45c0-a636-b53b637ecf9f",
   "metadata": {
    "tags": []
   },
   "outputs": [],
   "source": [
    "# Set the output file path\n",
    "output_path = Path('../PyBank/Financial_Analysis.txt')\n",
    "\n",
    "# Open the output path as a file object\n",
    "with open(output_path, 'w') as file:\n",
    "    \n",
    "    # Write methods to print to Financial_Analysis_Summary\n",
    "    file.write(\"Financial Analysis\")\n",
    "    file.write(\"\\n\")\n",
    "    file.write(\"----------------------------\")\n",
    "    file.write(\"\\n\")\n",
    "    file.write(f\"Total Months: {len(months)}\")\n",
    "    file.write(\"\\n\")\n",
    "    file.write(f\"Total: ${sum(total_profit)}\")\n",
    "    file.write(\"\\n\")\n",
    "    file.write(f\"Average Change: {round(sum(monthly_change)/len(monthly_change),2)}\")\n",
    "    file.write(\"\\n\")\n",
    "    file.write(f\"Greatest Increase in Profits: {months[month_increase]} (${(str(max_inc))})\")\n",
    "    file.write(\"\\n\")\n",
    "    file.write(f\"Greatest Decrease in Profits: {months[month_decrease]} (${(str(max_dec))})\")"
   ]
  }
 ],
 "metadata": {
  "kernelspec": {
   "display_name": "Python 3 (ipykernel)",
   "language": "python",
   "name": "python3"
  },
  "language_info": {
   "codemirror_mode": {
    "name": "ipython",
    "version": 3
   },
   "file_extension": ".py",
   "mimetype": "text/x-python",
   "name": "python",
   "nbconvert_exporter": "python",
   "pygments_lexer": "ipython3",
   "version": "3.10.13"
  }
 },
 "nbformat": 4,
 "nbformat_minor": 5
}
