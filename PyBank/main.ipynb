{
 "cells": [
  {
   "cell_type": "code",
   "execution_count": 92,
   "id": "99109df4-b79c-44ad-bd61-46e4b05a04ee",
   "metadata": {
    "tags": []
   },
   "outputs": [],
   "source": [
    "# Initial imports\n",
    "import pandas as pd\n",
    "from pathlib import Path"
   ]
  },
  {
   "cell_type": "code",
   "execution_count": 6,
   "id": "3f0a22a4-b7a8-4033-b95b-c124fdb0e659",
   "metadata": {},
   "outputs": [
    {
     "data": {
      "text/html": [
       "<div>\n",
       "<style scoped>\n",
       "    .dataframe tbody tr th:only-of-type {\n",
       "        vertical-align: middle;\n",
       "    }\n",
       "\n",
       "    .dataframe tbody tr th {\n",
       "        vertical-align: top;\n",
       "    }\n",
       "\n",
       "    .dataframe thead th {\n",
       "        text-align: right;\n",
       "    }\n",
       "</style>\n",
       "<table border=\"1\" class=\"dataframe\">\n",
       "  <thead>\n",
       "    <tr style=\"text-align: right;\">\n",
       "      <th></th>\n",
       "      <th>Profit/Losses</th>\n",
       "    </tr>\n",
       "    <tr>\n",
       "      <th>Date</th>\n",
       "      <th></th>\n",
       "    </tr>\n",
       "  </thead>\n",
       "  <tbody>\n",
       "    <tr>\n",
       "      <th>May-2015</th>\n",
       "      <td>158620</td>\n",
       "    </tr>\n",
       "    <tr>\n",
       "      <th>Apr-2015</th>\n",
       "      <td>-524626</td>\n",
       "    </tr>\n",
       "    <tr>\n",
       "      <th>Apr-2011</th>\n",
       "      <td>793163</td>\n",
       "    </tr>\n",
       "    <tr>\n",
       "      <th>Nov-2016</th>\n",
       "      <td>795914</td>\n",
       "    </tr>\n",
       "    <tr>\n",
       "      <th>May-2011</th>\n",
       "      <td>485070</td>\n",
       "    </tr>\n",
       "  </tbody>\n",
       "</table>\n",
       "</div>"
      ],
      "text/plain": [
       "          Profit/Losses\n",
       "Date                   \n",
       "May-2015         158620\n",
       "Apr-2015        -524626\n",
       "Apr-2011         793163\n",
       "Nov-2016         795914\n",
       "May-2011         485070"
      ]
     },
     "execution_count": 6,
     "metadata": {},
     "output_type": "execute_result"
    }
   ],
   "source": [
    "# Take sample of data\n",
    "csv_path = Path(\"Resources/budget_data.csv\")\n",
    "csv_data = pd.read_csv(csv_path, index_col=\"Date\")\n",
    "csv_data.sample(5)"
   ]
  },
  {
   "cell_type": "code",
   "execution_count": 14,
   "id": "abbd5f6f-78f8-40a7-99d9-b7534793c2f3",
   "metadata": {
    "tags": []
   },
   "outputs": [
    {
     "data": {
      "text/plain": [
       "86"
      ]
     },
     "execution_count": 14,
     "metadata": {},
     "output_type": "execute_result"
    }
   ],
   "source": [
    "# Identify Series count of Profit/Loss\n",
    "# Total number of months is equal to total number of rows which can be given using the .count function\n",
    "\n",
    "total_months = csv_data[\"Profit/Losses\"].count()\n",
    "total_months"
   ]
  },
  {
   "cell_type": "code",
   "execution_count": 91,
   "id": "ff0309ed-656d-4c10-9922-e9122a208a0f",
   "metadata": {
    "tags": []
   },
   "outputs": [
    {
     "data": {
      "text/plain": [
       "38382578"
      ]
     },
     "execution_count": 91,
     "metadata": {},
     "output_type": "execute_result"
    }
   ],
   "source": [
    "# Calculate Net Total\n",
    "# Calculate Net Total using .sum function\n",
    "\n",
    "net_total = csv_data[\"Profit/Losses\"].sum()\n",
    "net_total"
   ]
  },
  {
   "cell_type": "code",
   "execution_count": 50,
   "id": "9214f8e8-4166-442f-9f9e-656f7f3c8285",
   "metadata": {
    "tags": []
   },
   "outputs": [
    {
     "data": {
      "text/plain": [
       "-2315.12"
      ]
     },
     "execution_count": 50,
     "metadata": {},
     "output_type": "execute_result"
    }
   ],
   "source": [
    "# Calculate Average Change\n",
    "# Used .diff function to find difference between each subsuequent row and the previous row putting it into a new column and diviing that by the total number of months minus 1\n",
    "\n",
    "csv_data[\"avg_change\"] = csv_data[\"Profit/Losses\"].diff()\n",
    "average_change = round((csv_data[\"avg_change\"].sum() / (total_months - 1)), 2)\n",
    "average_change\n"
   ]
  },
  {
   "cell_type": "code",
   "execution_count": 66,
   "id": "7fb70a63-1c46-4484-8bde-1a4b47eb898c",
   "metadata": {
    "tags": []
   },
   "outputs": [
    {
     "data": {
      "text/plain": [
       "1926159.0"
      ]
     },
     "execution_count": 66,
     "metadata": {},
     "output_type": "execute_result"
    }
   ],
   "source": [
    "# Calculate Greatest Increase in Profits\n",
    "# Used .max function to find the greatest increase among each profit change\n",
    "\n",
    "greatest_increase = csv_data[\"avg_change\"].max()\n",
    "greatest_increase"
   ]
  },
  {
   "cell_type": "code",
   "execution_count": 67,
   "id": "e17c8bf0-6230-4e62-9f26-eb8f2ec728db",
   "metadata": {
    "tags": []
   },
   "outputs": [
    {
     "data": {
      "text/plain": [
       "-2196167.0"
      ]
     },
     "execution_count": 67,
     "metadata": {},
     "output_type": "execute_result"
    }
   ],
   "source": [
    "# Calculate Greatest Decrease in Profits\n",
    "# Used .min function to find the greatest decrease among each profit change\n",
    "\n",
    "greatest_decrease = csv_data[\"avg_change\"].min()\n",
    "greatest_decrease"
   ]
  },
  {
   "cell_type": "code",
   "execution_count": 68,
   "id": "48f20337-04ce-4c04-9f16-8beeb98fd72b",
   "metadata": {
    "tags": []
   },
   "outputs": [
    {
     "name": "stdout",
     "output_type": "stream",
     "text": [
      "----- Financial Analysis -----\n",
      "Total Months: 86\n",
      "Total: Profit/Losses    38382578.0\n",
      "avg_change        -196785.0\n",
      "dtype: float64\n",
      "Average Change: -2315.12\n",
      "Greatest Increase in Profits: 1926159.0\n",
      "Greatest Decrease in Profits: -2196167.0\n"
     ]
    }
   ],
   "source": [
    "# Print out Financial Analysis\n",
    "print(\"----- Financial Analysis -----\")\n",
    "print(f\"Total Months: {total_months}\")\n",
    "print(f\"Total: {total}\")\n",
    "print(f\"Average Change: {average_change}\")\n",
    "print(f\"Greatest Increase in Profits: {greatest_increase}\")\n",
    "print(f\"Greatest Decrease in Profits: {greatest_decrease}\")"
   ]
  },
  {
   "cell_type": "code",
   "execution_count": 70,
   "id": "3e9852b7-4223-4ac0-a451-7fe13bbf33db",
   "metadata": {
    "tags": []
   },
   "outputs": [],
   "source": [
    "# Set output file name\n",
    "output_path = 'output.txt'"
   ]
  },
  {
   "cell_type": "code",
   "execution_count": 89,
   "id": "909bd3e9-4e35-4ad0-be95-8929a01a7da4",
   "metadata": {
    "tags": []
   },
   "outputs": [],
   "source": [
    "# Open the output path as a file object\n",
    "with open(output_path, 'w') as file:\n",
    "    #Write Financial Analysis to the output file, convert to string\n",
    "    file.write(f\"Financial Analysis\")\n",
    "    file.write(f\"Total Months: {total_months}\")\n",
    "    file.write(f\"Total: {total}\")\n",
    "    file.write(f\"Average Change: {average_change}\")\n",
    "    file.write(f\"Greatest Increase in Profits: {greatest_increase}\")\n",
    "    file.write(f\"Greatest Decrease in Profits: {greatest_decrease}\")"
   ]
  }
 ],
 "metadata": {
  "kernelspec": {
   "display_name": "Python 3 (ipykernel)",
   "language": "python",
   "name": "python3"
  },
  "language_info": {
   "codemirror_mode": {
    "name": "ipython",
    "version": 3
   },
   "file_extension": ".py",
   "mimetype": "text/x-python",
   "name": "python",
   "nbconvert_exporter": "python",
   "pygments_lexer": "ipython3",
   "version": "3.11.5"
  }
 },
 "nbformat": 4,
 "nbformat_minor": 5
}
